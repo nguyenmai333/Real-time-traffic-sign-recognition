{
 "cells": [
  {
   "cell_type": "code",
   "execution_count": 6,
   "id": "4f6b398b",
   "metadata": {
    "scrolled": true
   },
   "outputs": [],
   "source": [
    "from sklearn.model_selection import train_test_split\n",
    "import matplotlib.pyplot as plt\n",
    "import numpy as np\n",
    "import cv2\n",
    "import os"
   ]
  },
  {
   "cell_type": "code",
   "execution_count": 7,
   "id": "b6400e9d",
   "metadata": {
    "scrolled": true
   },
   "outputs": [],
   "source": []
  },
  {
   "cell_type": "code",
   "execution_count": 8,
   "id": "7fd3a04b",
   "metadata": {},
   "outputs": [
    {
     "ename": "NameError",
     "evalue": "name 'image' is not defined",
     "output_type": "error",
     "traceback": [
      "\u001b[1;31m---------------------------------------------------------------------------\u001b[0m",
      "\u001b[1;31mNameError\u001b[0m                                 Traceback (most recent call last)",
      "Cell \u001b[1;32mIn[8], line 2\u001b[0m\n\u001b[0;32m      1\u001b[0m img_dir \u001b[38;5;241m=\u001b[39m folder_path \u001b[38;5;241m+\u001b[39m \u001b[38;5;124m\"\u001b[39m\u001b[38;5;130;01m\\\\\u001b[39;00m\u001b[38;5;124m001.jpg\u001b[39m\u001b[38;5;124m\"\u001b[39m\n\u001b[1;32m----> 2\u001b[0m img \u001b[38;5;241m=\u001b[39m \u001b[43mimage\u001b[49m\u001b[38;5;241m.\u001b[39mload_img(img_dir)\n",
      "\u001b[1;31mNameError\u001b[0m: name 'image' is not defined"
     ]
    }
   ],
   "source": [
    "img_dir = folder_path + \"\\\\001.jpg\"\n",
    "img = image.load_img(img_dir)"
   ]
  },
  {
   "cell_type": "code",
   "execution_count": 9,
   "id": "a4946eba",
   "metadata": {
    "scrolled": true
   },
   "outputs": [
    {
     "ename": "NameError",
     "evalue": "name 'img' is not defined",
     "output_type": "error",
     "traceback": [
      "\u001b[1;31m---------------------------------------------------------------------------\u001b[0m",
      "\u001b[1;31mNameError\u001b[0m                                 Traceback (most recent call last)",
      "Cell \u001b[1;32mIn[9], line 1\u001b[0m\n\u001b[1;32m----> 1\u001b[0m plt\u001b[38;5;241m.\u001b[39mimshow(\u001b[43mimg\u001b[49m)\n",
      "\u001b[1;31mNameError\u001b[0m: name 'img' is not defined"
     ]
    }
   ],
   "source": [
    "plt.imshow(img)"
   ]
  },
  {
   "cell_type": "code",
   "execution_count": 10,
   "id": "8c019f55",
   "metadata": {
    "scrolled": true
   },
   "outputs": [
    {
     "data": {
      "text/plain": [
       "(32, 32, 3)"
      ]
     },
     "execution_count": 10,
     "metadata": {},
     "output_type": "execute_result"
    }
   ],
   "source": [
    "cv2.imread(img_dir).shape"
   ]
  },
  {
   "cell_type": "code",
   "execution_count": 50,
   "id": "d0dc9ff6",
   "metadata": {},
   "outputs": [],
   "source": [
    "folder_path = r\"D:\\Data_Code\\Contest-UIT\\data\\myData\\8\""
   ]
  },
  {
   "cell_type": "code",
   "execution_count": 51,
   "id": "89c36c5d",
   "metadata": {},
   "outputs": [],
   "source": [
    "all_images = os.listdir(folder_path)"
   ]
  },
  {
   "cell_type": "code",
   "execution_count": 52,
   "id": "4478ba97",
   "metadata": {},
   "outputs": [],
   "source": [
    "train_images, test_images = train_test_split(all_images, test_size =0.5, random_state = 42)"
   ]
  },
  {
   "cell_type": "code",
   "execution_count": 53,
   "id": "fe317137",
   "metadata": {},
   "outputs": [],
   "source": [
    "train_image_paths = [os.path.join(folder_path, image) for image in train_images]\n",
    "test_image_paths = [os.path.join(folder_path, image) for image in test_images]"
   ]
  },
  {
   "cell_type": "code",
   "execution_count": 54,
   "id": "6ae2cd2b",
   "metadata": {},
   "outputs": [],
   "source": [
    "import os\n",
    "import shutil\n",
    "\n",
    "train_folder = os.path.join(folder_path, 'train')\n",
    "test_folder = os.path.join(folder_path, 'test')\n",
    "\n",
    "# Tạo thư mục huấn luyện nếu nó không tồn tại\n",
    "if not os.path.exists(train_folder):\n",
    "    os.makedirs(train_folder)\n",
    "\n",
    "# Tạo thư mục kiểm tra nếu nó không tồn tại\n",
    "if not os.path.exists(test_folder):\n",
    "    os.makedirs(test_folder)\n",
    "\n",
    "# Xuất các tệp ảnh vào thư mục huấn luyện\n",
    "for image_path in train_image_paths:\n",
    "    source_path = image_path  # Không cần thay đổi gì về đường dẫn nguồn\n",
    "    image_name = os.path.basename(image_path)  # Lấy tên tệp ảnh từ đường dẫn\n",
    "    destination_path = os.path.join(train_folder, image_name)\n",
    "    shutil.move(source_path, destination_path)\n",
    "\n",
    "# Xuất các tệp ảnh vào thư mục kiểm tra\n",
    "for image_path in test_image_paths:\n",
    "    source_path = image_path  # Không cần thay đổi gì về đường dẫn nguồn\n",
    "    image_name = os.path.basename(image_path)  # Lấy tên tệp ảnh từ đường dẫn\n",
    "    destination_path = os.path.join(test_folder, image_name)\n",
    "    shutil.move(source_path, destination_path)\n",
    "\n"
   ]
  },
  {
   "cell_type": "code",
   "execution_count": null,
   "id": "9af9f75e",
   "metadata": {},
   "outputs": [],
   "source": []
  }
 ],
 "metadata": {
  "kernelspec": {
   "display_name": "Python 3 (ipykernel)",
   "language": "python",
   "name": "python3"
  },
  "language_info": {
   "codemirror_mode": {
    "name": "ipython",
    "version": 3
   },
   "file_extension": ".py",
   "mimetype": "text/x-python",
   "name": "python",
   "nbconvert_exporter": "python",
   "pygments_lexer": "ipython3",
   "version": "3.10.13"
  }
 },
 "nbformat": 4,
 "nbformat_minor": 5
}
