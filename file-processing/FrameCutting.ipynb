{
 "cells": [
  {
   "cell_type": "code",
   "execution_count": 1,
   "id": "7b05bb35",
   "metadata": {},
   "outputs": [],
   "source": [
    "import cv2\n",
    "import os\n",
    "\n",
    "input_dir = r'Z:\\1trf'  # Thư mục chứa các video\n",
    "output_dir = r'Z:\\frame-s'  # Thư mục chứa các frame\n",
    "\n",
    "# Tạo thư mục output nếu nó không tồn tại\n",
    "os.makedirs(output_dir, exist_ok=True)\n",
    "\n",
    "skip_frame = 5  # Chỉ lấy mỗi skip_frame frame\n",
    "frame_number = 0\n",
    "\n",
    "for video_number in range(1, 70):  # Duyệt qua các video từ 1 đến 69\n",
    "    video_filename = os.path.join(input_dir, f'{video_number}.mp4')\n",
    "    \n",
    "    # Mở video\n",
    "    video_capture = cv2.VideoCapture(video_filename)\n",
    "    \n",
    "    # Kiểm tra xem video có tồn tại hay không\n",
    "    if not video_capture.isOpened():\n",
    "        print(f\"Không thể mở video {video_number}.mp4\")\n",
    "        continue\n",
    "    \n",
    "    frame_count = 0\n",
    "    \n",
    "    # Đọc và lưu khung hình từ video\n",
    "    while True:\n",
    "        ret, frame = video_capture.read()\n",
    "        if not ret:\n",
    "            break\n",
    "            \n",
    "        frame_count += 1\n",
    "        \n",
    "        if frame_count % skip_frame == 0:\n",
    "            frame_filename = os.path.join(output_dir, f'{video_number}_{frame_number}.jpg')\n",
    "            height, width, _ = frame.shape\n",
    "            roi = frame[height // 4:3 * height // 4, width // 4:3 * width // 4]\n",
    "            cv2.imwrite(frame_filename, roi)\n",
    "            cv2.imshow('Frame', frame)\n",
    "            frame_number += 1\n",
    "        \n",
    "        if cv2.waitKey(10) & 0xFF == ord('q'):\n",
    "            break\n",
    "    # Giải phóng tài nguyên cho video hiện tại\n",
    "    video_capture.release()\n",
    "\n",
    "cv2.destroyAllWindows()\n"
   ]
  }
 ],
 "metadata": {
  "kernelspec": {
   "display_name": "Python (<3.11.0>)",
   "language": "python",
   "name": "myenv"
  },
  "language_info": {
   "codemirror_mode": {
    "name": "ipython",
    "version": 3
   },
   "file_extension": ".py",
   "mimetype": "text/x-python",
   "name": "python",
   "nbconvert_exporter": "python",
   "pygments_lexer": "ipython3",
   "version": "3.11.0"
  }
 },
 "nbformat": 4,
 "nbformat_minor": 5
}
