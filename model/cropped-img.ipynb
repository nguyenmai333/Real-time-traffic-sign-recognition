{
 "cells": [
  {
   "cell_type": "code",
   "execution_count": 3,
   "id": "30aa61da",
   "metadata": {},
   "outputs": [],
   "source": [
    "import cv2\n",
    "import cv\n",
    "import numpy as np\n",
    "from matplotlib import pyplot as plt"
   ]
  },
  {
   "cell_type": "code",
   "execution_count": 12,
   "id": "c7098ca7",
   "metadata": {},
   "outputs": [],
   "source": [
    "image = cv2.imread(r\"D:\\Data_Code\\Contest-UIT\\data\\TSD-1\\images\\train\\01120.jpg\")\n",
    "file_dir = r\"D:\\Data_Code\\Contest-UIT\\data\\TSD-1\\labels\\train\\01120.txt\"\n",
    "#240x180"
   ]
  },
  {
   "cell_type": "code",
   "execution_count": 13,
   "id": "e187775d",
   "metadata": {},
   "outputs": [
    {
     "data": {
      "text/plain": [
       "(0.8208333333333333,\n",
       " 0.33611111111111114,\n",
       " 0.13333333333333333,\n",
       " 0.17222222222222222)"
      ]
     },
     "execution_count": 13,
     "metadata": {},
     "output_type": "execute_result"
    }
   ],
   "source": [
    "with open(file_dir, \"r\") as f:\n",
    "    file = f.readlines()\n",
    "    parts = file[0].split()\n",
    "    x_center = float(parts[1])\n",
    "    y_center = float(parts[2])\n",
    "    width = float(parts[3])\n",
    "    height = float(parts[4])\n",
    "box = (x_center, y_center, width, height)\n",
    "box"
   ]
  },
  {
   "cell_type": "code",
   "execution_count": 14,
   "id": "400b4d8a",
   "metadata": {},
   "outputs": [],
   "source": [
    "# Calculate bounding box corners\n",
    "left = int((box[0] - box[2] / 2) * image.shape[1])\n",
    "right = int((box[0] + box[2] / 2) * image.shape[1])\n",
    "top = int((box[1] - box[3] / 2) * image.shape[0])\n",
    "bottom = int((box[1] + box[3] / 2) * image.shape[0])\n",
    "\n",
    "# Crop the image\n",
    "box = (left, right, top, bottom)\n",
    "cropped_image = image[top:bottom, left:right]\n"
   ]
  },
  {
   "cell_type": "code",
   "execution_count": 15,
   "id": "0ed5df57",
   "metadata": {
    "scrolled": false
   },
   "outputs": [
    {
     "data": {
      "text/plain": [
       "<matplotlib.image.AxesImage at 0x207cc4bb9d0>"
      ]
     },
     "execution_count": 15,
     "metadata": {},
     "output_type": "execute_result"
    },
    {
     "data": {
      "image/png": "[encoded data removed]",
      "text/plain": [
       "<Figure size 640x480 with 1 Axes>"
      ]
     },
     "metadata": {},
     "output_type": "display_data"
    }
   ],
   "source": [
    "plt.imshow(cropped_image)"
   ]
  },
  {
   "cell_type": "code",
   "execution_count": null,
   "id": "e5673cb2",
   "metadata": {},
   "outputs": [],
   "source": []
  }
 ],
 "metadata": {
  "kernelspec": {
   "display_name": "Python (<3.11.0>)",
   "language": "python",
   "name": "myenv"
  },
  "language_info": {
   "codemirror_mode": {
    "name": "ipython",
    "version": 3
   },
   "file_extension": ".py",
   "mimetype": "text/x-python",
   "name": "python",
   "nbconvert_exporter": "python",
   "pygments_lexer": "ipython3",
   "version": "3.11.0"
  }
 },
 "nbformat": 4,
 "nbformat_minor": 5
}
